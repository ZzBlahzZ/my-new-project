{
 "cells": [
  {
   "cell_type": "code",
   "execution_count": 6,
   "id": "4e200610",
   "metadata": {},
   "outputs": [
    {
     "name": "stdout",
     "output_type": "stream",
     "text": [
      "Họ và tên: Nguyễn Quốc Khánh\n",
      "Năm Sinh: 1998 Nam\n",
      "Đang làm việc tại Vũng Tàu\n"
     ]
    }
   ],
   "source": [
    "print(\"Họ và tên: Nguyễn Quốc Khánh\")\n",
    "print(\"Năm Sinh: 1998 Nam\")\n",
    "print(\"Đang làm việc tại Vũng Tàu\")\n",
    "print(\"Sở thích: Nghe nhạc ,Xem phim,Chụp ảnh,...\")"
   ]
  },
  {
   "cell_type": "code",
   "execution_count": null,
   "id": "6aea67f3",
   "metadata": {},
   "outputs": [],
   "source": []
  }
 ],
 "metadata": {
  "kernelspec": {
   "display_name": "Python 3",
   "language": "python",
   "name": "python3"
  },
  "language_info": {
   "codemirror_mode": {
    "name": "ipython",
    "version": 3
   },
   "file_extension": ".py",
   "mimetype": "text/x-python",
   "name": "python",
   "nbconvert_exporter": "python",
   "pygments_lexer": "ipython3",
   "version": "3.8.8"
  }
 },
 "nbformat": 4,
 "nbformat_minor": 5
}
